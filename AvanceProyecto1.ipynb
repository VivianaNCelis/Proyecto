{
 "cells": [
  {
   "cell_type": "code",
   "execution_count": null,
   "metadata": {},
   "outputs": [],
   "source": [
    "#PRIMER LINEA= Derivada de forma simbolica, es decir con la expresión, para esto se importa Sympy\n",
    "# SEGUNDA LÍNEA= Evaluando cada valor, método númerico= Método de diferencias divididas fnitas,\n",
    "#Se realiza con diferencias centradas\n",
    "\n",
    "import numpy as np\n",
    "import matplotlib.pyplot as plt\n",
    "from sympy import Symbol\n",
    "from scipy.misc import derivative\n",
    "import matplotlib.pyplot as plt\n",
    "from scipy.ndimage import convolve"
   ]
  },
  {
   "cell_type": "code",
   "execution_count": 2,
   "metadata": {},
   "outputs": [
    {
     "name": "stdout",
     "output_type": "stream",
     "text": [
      "6*x**2\n"
     ]
    }
   ],
   "source": [
    "#Para encontrar la derivada de forma symbolica\n",
    "x=Symbol('x')\n",
    "y=2*x**3\n",
    "#Con respecto a que se va a derivar\n",
    "derivada=y.diff(x)\n",
    "print(derivada)"
   ]
  },
  {
   "cell_type": "code",
   "execution_count": 3,
   "metadata": {
    "scrolled": true
   },
   "outputs": [
    {
     "name": "stdout",
     "output_type": "stream",
     "text": [
      "5.999999999839467\n"
     ]
    }
   ],
   "source": [
    "#Otra forma de encontrar la derivada pero evaluandola en un valor\n",
    "f= lambda x: 2*x**3\n",
    "#f es la función, el valor (1) es donde se quiere evaluar, dx=1e-6 es la diferencia\n",
    "#Del valores que hay por el método que utiliza\n",
    "print(derivative(f,1,dx=1e-6))"
   ]
  },
  {
   "cell_type": "code",
   "execution_count": 9,
   "metadata": {},
   "outputs": [
    {
     "name": "stdout",
     "output_type": "stream",
     "text": [
      "¿En que valor deseas calcular la derivada?3\n",
      "introduce el valor de h: 0.25\n",
      "34.0625\n",
      "79.54166666666667\n"
     ]
    }
   ],
   "source": [
    "#DIFERENCIAS FINITAS CENTRADAS\n",
    "\n",
    "\n",
    "#En este ejemplo se va a trabajar con la función x^3+x^2+x+3\n",
    "def funcion(x):\n",
    "    resultado=pow(x,3)+pow(x,2)+x+3\n",
    "    return resultado\n",
    "\n",
    "def derivada(x):\n",
    "#recuerde que h es el valor de paso, entre más pequeño más exacta\n",
    "#Esta es la primera derivada por método de diferencias finitas centradas (ver PDF)\n",
    "    derivada1=(funcion(x+h)-funcion(x-h))/(2*h)\n",
    "    return derivada1\n",
    "\n",
    "def derivada4(x):\n",
    "    derivada1=(-funcion(x+h*2)+8*funcion(x-h)+funcion(x-h*2))/(12*h)\n",
    "    return derivada1\n",
    "\n",
    "x=float(input('¿En que valor deseas calcular la derivada?'))\n",
    "h=float(input('introduce el valor de h: '))\n",
    "\n",
    "print(derivada(x))\n",
    "print(derivada4(x))\n",
    "\n",
    "#Recuerdar la función está arriba y se sustituye el valor de 3\n"
   ]
  },
  {
   "cell_type": "markdown",
   "metadata": {},
   "source": [
    "\n",
    "# IMPORTANTE\n",
    "\n",
    "A partir de este momento se intentará implementar el método, una de las fuentes guia es Finite Difference Computing with PDEs - A Modern Software Approach de Hans Petter Langtangen y Svein Linge (Se encontrará en el repositorio). \n",
    "\n",
    "La metodología es:\n",
    "\n",
    "1) Hacer ejemplos que quizá se consigan en el libro\n",
    "\n",
    "2) recoger ideas para solucionar la ecuación de calor.\n",
    "\n",
    "3) En el PDF se encontrará la solución pero se deberá cambiar la condiciones de frontera que se presenta en el documento. Afirmar algunas cosas que se tiene en duda  con las condiciones de frontera. \n",
    "\n",
    "PREGUNTAS: En la ecuación de calor se mira si es solución estable, se observará lo mismo en Python?"
   ]
  },
  {
   "cell_type": "markdown",
   "metadata": {},
   "source": [
    "### Ejemplo 1\n",
    "\n",
    "Ecuación $u''+w^{2}u=0$ con $u(0)=I$, $u'(0)=0$, $t \\in (0,T]$ y $u(t)=Icos(wt)$"
   ]
  },
  {
   "cell_type": "code",
   "execution_count": 10,
   "metadata": {},
   "outputs": [],
   "source": [
    "#\n",
    "#Se debe hacer una malla\n",
    "def solver(I, w, dt, T):\n",
    "    dt = float(dt)\n",
    "    Nt = int(round(T/dt))\n",
    "    \n",
    "#Matriz\n",
    "    u = np.zeros(Nt+1)\n",
    "    \n",
    "#Para formar la malla\n",
    "    t = np.linspace(0, Nt*dt, Nt+1) \n",
    "    \n",
    "#Condiciones iniciales\n",
    "    u[0] = I\n",
    "    \n",
    "#Especificar también esta linea, Preguntar?\n",
    "    u[1] = u[0] - 0.5*dt**2*w**2*u[0]\n",
    "    \n",
    "#APLICANDO EL MÉTODO DE DIFERENCIAS FINITAS\n",
    "    for n in range(1, Nt):\n",
    "        u[n+1] = 2*u[n] - u[n-1] - dt**2*w**2*u[n]\n",
    "    return u, t\n"
   ]
  },
  {
   "cell_type": "code",
   "execution_count": 12,
   "metadata": {},
   "outputs": [],
   "source": [
    "#Como se definio u(t) en la ecuación\n",
    "def u_exact(t, I, w):\n",
    "    return I*np.cos(w*t)\n",
    "\n",
    "#Los datos que es claro que se deben entrar\n",
    "\n",
    "#I = 1\n",
    "#w = 2*pi\n",
    "#dt = 0.05\n",
    "#num_periods = 5\n",
    "#P = 2*pi/w # one period\n",
    "#T = P*num_periods\n",
    "#u, t = solver(I, w, dt, T)"
   ]
  },
  {
   "cell_type": "markdown",
   "metadata": {},
   "source": [
    "### Ejemplo 2\n",
    "\n",
    "La solución de\n",
    "\n",
    "$\\frac{\\partial ^{2}u}{\\partial t^2}=c^2\\frac{\\partial ^{2}u}{\\partial x^{2}}$ con $x \\in (0,L), t \\in (0,T]$\n",
    "\n",
    "$u(x,0)=I(x)$ con  $x \\in [0,L]$\n",
    "$\\frac{\\partial}{\\partial t}u(x,0)=0$ con $x \\in [0,L]$\n",
    "\n",
    "$u(0,t)=0$ con  $t \\in (0,T]$\n",
    "$u(L,t)=0$ con $t \\in (0,T]$"
   ]
  },
  {
   "cell_type": "code",
   "execution_count": 6,
   "metadata": {},
   "outputs": [],
   "source": [
    "def solver(I, V, f, c, L, dt, C, T, user_action=None):\n",
    "    #Número de intervalos con respecto al tiempo\n",
    "    Nt = int(round(T/dt))\n",
    "    #Creación de la malla de puntos en el tiempo\n",
    "    t = np.linspace(0, Nt*dt, Nt+1) \n",
    "    dx = dt*c/float(C)\n",
    "    #Número de intervalos en x\n",
    "    Nx = int(round(L/dx))\n",
    "    #Malla\n",
    "    x = np.linspace(0, L, Nx+1)\n",
    "    C2 = C**2 # El c^2 que tiene la formula dada\n",
    "    dx = x[1] - x[0]\n",
    "    dt = t[1] - t[0]\n",
    "    \n",
    "    \n",
    "#ESTA F ES COMO NO ESTA DEFINIDA ENTONCES POR ESO COLOCO CERO\n",
    "    if f is None or f == 0 :\n",
    "        f = lambda x, t: 0\n",
    "    if V is None or V == 0:\n",
    "        V = lambda x: 0\n",
    "        \n",
    "    u = np.zeros(Nx+1)\n",
    "    u_n = np.zeros(Nx+1) \n",
    "    u_nm1 = np.zeros(Nx+1) \n",
    "\n",
    "        # Condiciones iniciales en u_{n}\n",
    "    for i in range(0,Nx+1):\n",
    "        u_n[i] = I(x[i])\n",
    "        \n",
    "    if user_action is not None:\n",
    "        user_action(u_n, x, t, 0)\n",
    "\n",
    "        # Utilizando el método de diferencias fnitas\n",
    "    n=0\n",
    "    for i in range(1, Nx):\n",
    "        u[i] = u_n[i] + dt*V(x[i]) + \\\n",
    "                0.5*C2*(u_n[i-1] - 2*u_n[i] + u_n[i+1]) + \\\n",
    "                0.5*dt**2*f(x[i], t[n])\n",
    "    u[0] = 0; u[Nx] = 0\n",
    "    \n",
    "    if user_action is not None:\n",
    "        user_action(u, x, t, 1)\n",
    "\n",
    "\n",
    "    # Cambia las variables antes del siguiente paso\n",
    "    u_nm1[:] = u_n; u_n[:] = u\n",
    "    \n",
    "    #Utilizando el método de diferencias finitas\n",
    "    for n in range(1, Nt):\n",
    "        for i in range(1, Nx):\n",
    "            u[i] = - u_nm1[i] + 2*u_n[i] + \\\n",
    "                    C2*(u_n[i-1] - 2*u_n[i] + u_n[i+1]) + \\\n",
    "                    dt**2*f(x[i], t[n])\n",
    "\n",
    "            # Insertando b\n",
    "        u[0] = 0; u[Nx] = 0\n",
    "        if user_action is not None:\n",
    "            if user_action(u, x, t, n+1):\n",
    "                break\n",
    "                \n",
    "# Cambio de variables después del paso\n",
    "        u_nm1[:] = u_n; u_n[:] = u\n",
    "    return u, x, t"
   ]
  },
  {
   "cell_type": "markdown",
   "metadata": {},
   "source": [
    "# La ecuación de calor, PREGUNTAS"
   ]
  },
  {
   "cell_type": "code",
   "execution_count": null,
   "metadata": {},
   "outputs": [],
   "source": [
    "#Longitud en los ejes, lo grande de la malla\n",
    "Lx=20 \n",
    "Ly=20\n",
    "\n",
    "#Número de pasos en el eje x y y \n",
    "Nx=100\n",
    "Ny=50 \n",
    "Nt =30\n",
    "#El valor del coeficiente de difusión\n",
    "a = 0.001 \n",
    "\n",
    "#La longitud de cada intervalo, se puede averiguar al restar los dos primeros valores\n",
    "#Según el PDF el dx=Lx/(Nx+1) así mismo con dy y dt, pero eso se puede ir mejorando\n",
    "#Otra forma para generaliza es dx=(xf-xi)/Nx+1 pero creo que no es necesario.\n",
    "#Esto sería una forma sencilla y como todos tiene la misma longitud, solo con los primeros se sabrá \n",
    "dx=x[1]-x[0]\n",
    "dy=y[1]-x[0]\n",
    "dt=t[1]-t[0]\n",
    "\n",
    "#Para armar la malla, entonces se mostrará dos posibles\n",
    "#Recuerde que lo que hace el linspace es devolver un número de muestras espaciadas\n",
    "#Entonces estos espacios o la cantidad de ellos se dará por $Lx, Ly, Nx y Ny$\n",
    "x = linspace(0.1,Lx, Nx+1)[np.newaxis]\n",
    "y = linspace(0.1,Ly, Ny+1)[np.newaxis]\n",
    "t = linspace(0, Nt*dt, Nt+1)[np.newaxis]\n",
    "#UNA FORMA MÁS INTUITIVA\n",
    "#Observe que el np.mesgrid no necesita el número de pasos, esta función solo hace la mall\n",
    "#X,Y= np.meshgrid(np.arange(0,Lx), np.arange(0,Ly)) \n",
    "\n",
    "#Valor inicial, después que funcione se cambiará por funciones\n",
    "Vinicial=20\n",
    "\n",
    "#Condiciones de frontera, de igual manera, después que funcionen se cambiarán por funciones\n",
    "#Donde Tleft es la parte izquierda de la malla que hacemos, Ttop= Parte superior, así con los demás\n",
    "Ttop=100\n",
    "Tbottom=0\n",
    "Tleft=0\n",
    "Tright=30\n",
    "\n",
    "\n",
    "#PEQUEÑA CONFUSIÓN ENTRE ESAS MATRICES CEROS Y UNOS, PREGUNTAR????\n",
    "#La matriz\n",
    "u=np.ones(([Nx,Ny]))\n",
    "\n",
    "#Iteraciones\n",
    "Iteracion=500\n",
    "\n",
    "#Utilizando el método de diferencias finitas\n",
    "for m in range (0,Iteracion):\n",
    "        du=np.zeros(([Nx,Ny]))\n",
    "        for i in range (1,Nx-1):\n",
    "            for j in range(1,Ny-1):\n",
    "               dux = ( u[i+1,j] - 2*u[i,j] + u[i-1, j] ) / dx**2\n",
    "               duy = ( u[i,j+1] - 2*u[i,j] + u[i, j-1] ) / dy**2            \n",
    "               du[i,j] = dt*a*(dux+duy)\n",
    "            \n",
    "    #Condiciones de frontera\n",
    "    dT[(Ly-1):,:]=Ttop\n",
    "    dT[:1,:]=Tbottom\n",
    "    dT[:,(Lx-1):]=Tright\n",
    "    dT[:,:1]=Tleft\n",
    "    #PREGUNTA?????\n",
    "    #Condiones de Frontera\n",
    "    #No sé si sea necesario unas condiciones de frontera de esta forma\n",
    "    #t1=(u[:,0]+u[:,1])/2\n",
    "    #u[:,0]=t1\n",
    "    #u[:,1]=t1\n",
    "    #t2=(u[0,:]+u[1,:])/2\n",
    "    #u[0,:]=t2\n",
    "    #u[1,:]=t2\n",
    "    #t3=(u[-1,:]+u[-2,:])/2\n",
    "    #u[-1,:]=t3\n",
    "    #u[-2,:]=t3\n",
    "    #u[:,-1]=1\n",
    "    \n",
    "    #GRÁFICA\n",
    "    Colorinterpolation=40\n",
    "    colourMap=plt.cm.jet \n",
    "    #Arreglar detalles del gráfico\n",
    "    plt.tittle('Gráfico de Calor')\n",
    "    #Ojo si la malla se hace con el mesgrid se debe cambiar a X,Y mayúscula\n",
    "    plt.contourf(x,y,T,colorinterpolation,cmap=colourMap)\n",
    "    \n",
    "    plt.colorbar()\n",
    "    plt.show()\n",
    "\n",
    "    #Guardar los datos arrojados\n",
    "    NombreCarpeta1='data_{:08d}.txt'\n",
    "    np.savetxt(NombreCarpeta1.format(m),u,delimiter='\\t' )"
   ]
  },
  {
   "cell_type": "code",
   "execution_count": null,
   "metadata": {},
   "outputs": [],
   "source": []
  },
  {
   "cell_type": "markdown",
   "metadata": {},
   "source": [
    "El siguiente código es la solución de la ecuación de calor en 1d por diferencias finitas, encontrado en: https://scicomp.stackexchange.com/questions/30839/python-finite-difference-schemes-for-1d-heat-equation-how-to-express-for-loop-u?fbclid=IwAR1eD1LJp67W_IK1oOgHpWLC2qRRsZkOkG_BoMZ1ID1Yaiwkv3Kpk59s4jU\n",
    "\n",
    "NO ENTIENDO MUY BIEN CÓDIGO"
   ]
  },
  {
   "cell_type": "code",
   "execution_count": 4,
   "metadata": {},
   "outputs": [
    {
     "data": {
      "image/png": "[encoded data removed]",
      "text/plain": [
       "<Figure size 432x288 with 2 Axes>"
      ]
     },
     "metadata": {
      "needs_background": "light"
     },
     "output_type": "display_data"
    }
   ],
   "source": [
    "\n",
    "\n",
    "T0             = np.zeros(50, dtype=float)\n",
    "T0[17:25]      = 1.\n",
    "\n",
    "T1             = T0.copy()  # method 1  np.roll()\n",
    "T2             = T0.copy()  # method 2  convolve()\n",
    "\n",
    "do_me          = np.ones_like(T0, dtype=bool)\n",
    "do_me[[0, -1]] = False    #  keep the boundaries of your bounding box fixed\n",
    "\n",
    "a              = 0.01\n",
    "\n",
    "hold_1         = [T0.copy()]\n",
    "for i in range(10001):\n",
    "    Ttemp      = T1 + a*(np.roll(T1, +1) + np.roll(T1, -1) - 2*T1)\n",
    "    T1[do_me]  = Ttemp[do_me]\n",
    "    if not i%1000:\n",
    "        hold_1.append(T1.copy())\n",
    "\n",
    "hold_2         = [T0.copy()]\n",
    "kernel         = np.array([a, (1 - 2.*a), a])\n",
    "\n",
    "for i in range(10001):\n",
    "    Ttemp      = convolve(T2, kernel)\n",
    "    T2[do_me]  = Ttemp[do_me]\n",
    "    if not i%1000:\n",
    "        hold_2.append(T2.copy())\n",
    "\n",
    "if True:\n",
    "    plt.figure()\n",
    "    plt.subplot(1, 2, 1)\n",
    "    for thing in hold_1:\n",
    "        plt.plot(thing)\n",
    "\n",
    "    plt.subplot(1, 2, 2)\n",
    "    for thing in hold_2:\n",
    "        plt.plot(thing)\n",
    "\n",
    "    plt.show()"
   ]
  },
  {
   "cell_type": "code",
   "execution_count": null,
   "metadata": {},
   "outputs": [],
   "source": []
  },
  {
   "cell_type": "code",
   "execution_count": null,
   "metadata": {},
   "outputs": [],
   "source": []
  },
  {
   "cell_type": "code",
   "execution_count": null,
   "metadata": {},
   "outputs": [],
   "source": []
  },
  {
   "cell_type": "code",
   "execution_count": null,
   "metadata": {},
   "outputs": [],
   "source": []
  }
 ],
 "metadata": {
  "kernelspec": {
   "display_name": "Python 3",
   "language": "python",
   "name": "python3"
  },
  "language_info": {
   "codemirror_mode": {
    "name": "ipython",
    "version": 3
   },
   "file_extension": ".py",
   "mimetype": "text/x-python",
   "name": "python",
   "nbconvert_exporter": "python",
   "pygments_lexer": "ipython3",
   "version": "3.7.1"
  }
 },
 "nbformat": 4,
 "nbformat_minor": 2
}
