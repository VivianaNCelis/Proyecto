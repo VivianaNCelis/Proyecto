{
 "cells": [
  {
   "cell_type": "code",
   "execution_count": 10,
   "metadata": {},
   "outputs": [],
   "source": [
    "#PRIMER LINEA= Derivada de forma simbolica, es decir con la expresión, para esto se importa Sympy\n",
    "# SEGUNDA LÍNEA= Evaluando cada valor, método númerico= Método de diferencias divididas fnitas,\n",
    "#Se realiza con diferencias centradas\n",
    "\n",
    "import numpy as np\n",
    "import matplotlib.pyplot as plt\n",
    "from sympy import Symbol\n",
    "from scipy.misc import derivative"
   ]
  },
  {
   "cell_type": "code",
   "execution_count": 11,
   "metadata": {},
   "outputs": [
    {
     "name": "stdout",
     "output_type": "stream",
     "text": [
      "6*x**2\n"
     ]
    }
   ],
   "source": [
    "#Para encontrar la derivada de forma symbolica\n",
    "x=Symbol('x')\n",
    "y=2*x**3\n",
    "#Con respecto a que se va a derivar\n",
    "derivada=y.diff(x)\n",
    "print(derivada)"
   ]
  },
  {
   "cell_type": "code",
   "execution_count": 12,
   "metadata": {},
   "outputs": [
    {
     "name": "stdout",
     "output_type": "stream",
     "text": [
      "5.999999999839467\n"
     ]
    }
   ],
   "source": [
    "#Otra forma de encontrar la derivada pero evaluandola en un valor\n",
    "f= lambda x: 2*x**3\n",
    "#f es la función, el valor (1) es donde se quiere evaluar, dx=1e-6 es la diferencia\n",
    "#Del valores que hay por el método que utiliza\n",
    "print(derivative(f,1,dx=1e-6))"
   ]
  },
  {
   "cell_type": "code",
   "execution_count": 13,
   "metadata": {},
   "outputs": [],
   "source": [
    "#Para empezar el método de Euler para resolver ecuaciones diferenciales\n",
    "def funcion(x,y):\n",
    "    ec=x+2*y\n",
    "    return ec"
   ]
  },
  {
   "cell_type": "code",
   "execution_count": null,
   "metadata": {},
   "outputs": [],
   "source": [
    "h=float(input('Tamaño de paso:'))\n",
    "s=float(input('Hasta que valor'))\n",
    "n=(s/h)+1"
   ]
  },
  {
   "cell_type": "code",
   "execution_count": null,
   "metadata": {},
   "outputs": [],
   "source": []
  },
  {
   "cell_type": "code",
   "execution_count": null,
   "metadata": {},
   "outputs": [],
   "source": [
    "#MÉTODO DEL LIBRO - NO SIRVIO\n",
    "\n",
    "#Es importante observar que la interpolante global ya esta dada\n",
    "#from cubicSpline import curvatures\n",
    "#from Ludecomp3 import *\n",
    "#import numpy as np\n",
    "\n",
    "#x=np.array([1,2.3,4.5,3.0,5,3])\n",
    "#y=np.array([3.3,4.5,6.8,4.6,4.9,3.5])\n",
    "#print(curvatures(x,y))\n",
    "\n",
    "#A partir de los coeficientes dados utilizar la formula para encontrar sus respectivas derivadas.\n",
    "\n"
   ]
  },
  {
   "cell_type": "code",
   "execution_count": null,
   "metadata": {},
   "outputs": [],
   "source": [
    "#INVESTIGAR:\n",
    "\n",
    "#Método de diferencias dividas finitas\n",
    "#Método de euler"
   ]
  }
 ],
 "metadata": {
  "kernelspec": {
   "display_name": "Python 3",
   "language": "python",
   "name": "python3"
  },
  "language_info": {
   "codemirror_mode": {
    "name": "ipython",
    "version": 3
   },
   "file_extension": ".py",
   "mimetype": "text/x-python",
   "name": "python",
   "nbconvert_exporter": "python",
   "pygments_lexer": "ipython3",
   "version": "3.7.3"
  }
 },
 "nbformat": 4,
 "nbformat_minor": 2
}
