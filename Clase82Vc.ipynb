{
 "cells": [
  {
   "cell_type": "code",
   "execution_count": 23,
   "metadata": {},
   "outputs": [],
   "source": [
    "import numpy as np "
   ]
  },
  {
   "cell_type": "code",
   "execution_count": 24,
   "metadata": {},
   "outputs": [],
   "source": [
    "temp_pampl={'enero':12, 'febrero':14, 'marzo':25, 'abril':16, 'mayo':17, 'junio':19, 'julio':19, 'agosto':18, 'septiembre':15, 'octubre':12, 'noviembre':10, 'diciembre':13}"
   ]
  },
  {
   "cell_type": "code",
   "execution_count": 25,
   "metadata": {},
   "outputs": [],
   "source": [
    "temp_bucara={'enero':22, 'febrero':24, 'marzo':25, 'abril':26, 'mayo':27, 'junio':29, 'julio':29, 'agosto':18, 'septiembre':25, 'octubre':12, 'noviembre':30, 'diciembre':23}"
   ]
  },
  {
   "cell_type": "code",
   "execution_count": 26,
   "metadata": {},
   "outputs": [],
   "source": [
    "temp_barranca={'enero':32, 'febrero':34, 'marzo':35, 'abril':36, 'mayo':37, 'junio':39, 'julio':39, 'agosto':38, 'septiembre':35, 'octubre':32, 'noviembre':30, 'diciembre':33}"
   ]
  },
  {
   "cell_type": "code",
   "execution_count": 37,
   "metadata": {},
   "outputs": [],
   "source": [
    "#Para sacar 30 valores con un np.random.normal para que salga diferente, con 30 temperaturas aleatorias\n",
    "def crear_tabla(mes): \n",
    "    temp_1=np.random.normal(temp_pampl[mes],2,30)\n",
    "    temp_2=np.random.normal(temp_bucara[mes],2,30)\n",
    "    temp_3=np.random.normal(temp_barranca[mes],2,30)\n",
    "#np.concatenate formar una tabla de 3 columnas 30 filas\n",
    "    tabla=np.concatenate([[temp_1], [temp_2], [temp_3]]).T\n",
    "    return tabla"
   ]
  },
  {
   "cell_type": "code",
   "execution_count": 41,
   "metadata": {},
   "outputs": [],
   "source": [
    "#crear_tabla('marzo')\n",
    "meses= temp_pampl.keys()"
   ]
  },
  {
   "cell_type": "code",
   "execution_count": 45,
   "metadata": {},
   "outputs": [],
   "source": [
    "for mes in meses:\n",
    "    for year in range(1980,2018):\n",
    "        tabla=crear_tabla(mes)\n",
    "        filename=mes+'_'+str(year)+'.dat'\n",
    "        np.savetxt(filename,tabla)"
   ]
  },
  {
   "cell_type": "code",
   "execution_count": null,
   "metadata": {},
   "outputs": [],
   "source": []
  }
 ],
 "metadata": {
  "kernelspec": {
   "display_name": "Python 3",
   "language": "python",
   "name": "python3"
  },
  "language_info": {
   "codemirror_mode": {
    "name": "ipython",
    "version": 3
   },
   "file_extension": ".py",
   "mimetype": "text/x-python",
   "name": "python",
   "nbconvert_exporter": "python",
   "pygments_lexer": "ipython3",
   "version": "3.7.1"
  }
 },
 "nbformat": 4,
 "nbformat_minor": 2
}
