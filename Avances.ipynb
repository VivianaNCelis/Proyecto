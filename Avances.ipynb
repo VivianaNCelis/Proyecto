#Es importante observar que la interpolante global ya esta dada
from cubicSpline import curvatures
from Ludecomp3 import *
import numpy as np

x=np.array([1,2.3,4.5,3.0,5,3])
y=np.array([3.3,4.5,6.8,4.6,4.9,3.5])
print(curvatures(x,y))

#A partir de los coeficientes dados utilizar la formula para encontrar sus respectivas derivadas.

